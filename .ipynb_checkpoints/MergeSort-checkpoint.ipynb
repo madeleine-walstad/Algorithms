{
 "cells": [
  {
   "cell_type": "markdown",
   "metadata": {},
   "source": [
    "<h1>MergeSort</h1>"
   ]
  },
  {
   "cell_type": "code",
   "execution_count": 213,
   "metadata": {},
   "outputs": [],
   "source": [
    "def Merge(A, p, q, r):\n",
    "    n1 = q-p+1\n",
    "    n2 = r-q\n",
    "    L = [0]*(n1)\n",
    "    R = [0]*(n2)\n",
    "    for i in range(n1):\n",
    "        L[i] = A[p+i]\n",
    "    for j in range(n2):\n",
    "        R[j] = A[q+j+1]\n",
    "    i = 0\n",
    "    j = 0\n",
    "    for k in range(p, r+1):\n",
    "        if i >= n1:\n",
    "            A[k] = R[j]\n",
    "            j = j+1\n",
    "        elif j >= n2:\n",
    "            A[k] = L[i]\n",
    "            i = i+1\n",
    "        elif L[i] <= R[j]:     \n",
    "            A[k] = L[i]\n",
    "            i = i+1\n",
    "        else:\n",
    "            A[k] = R[j]\n",
    "            j = j+1\n",
    "    "
   ]
  },
  {
   "cell_type": "code",
   "execution_count": 214,
   "metadata": {},
   "outputs": [],
   "source": [
    "import math\n",
    "\n",
    "def MergeSortHelper(A, p, r):\n",
    "    if p < r:\n",
    "        q = int(math.floor((p+r)/2))\n",
    "        MergeSortHelper(A, p, q)\n",
    "        MergeSortHelper(A, q+1, r)\n",
    "        Merge(A, p, q, r)\n",
    "    return A\n",
    "  "
   ]
  },
  {
   "cell_type": "code",
   "execution_count": 215,
   "metadata": {},
   "outputs": [],
   "source": [
    "def MergeSort(A):\n",
    "    return MergeSortHelper(A, 0, len(A)-1)\n",
    "    "
   ]
  },
  {
   "cell_type": "code",
   "execution_count": 216,
   "metadata": {},
   "outputs": [
    {
     "name": "stdout",
     "output_type": "stream",
     "text": [
      "[1, 2, 3, 4, 5, 17]\n"
     ]
    }
   ],
   "source": [
    "print(MergeSort([1, 2, 4, 3,17, 5]))"
   ]
  }
 ],
 "metadata": {
  "kernelspec": {
   "display_name": "Python 2",
   "language": "python",
   "name": "python2"
  },
  "language_info": {
   "codemirror_mode": {
    "name": "ipython",
    "version": 2
   },
   "file_extension": ".py",
   "mimetype": "text/x-python",
   "name": "python",
   "nbconvert_exporter": "python",
   "pygments_lexer": "ipython2",
   "version": "2.7.15rc1"
  }
 },
 "nbformat": 4,
 "nbformat_minor": 2
}
