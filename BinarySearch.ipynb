{
 "cells": [
  {
   "cell_type": "markdown",
   "metadata": {},
   "source": [
    "<h1>Binary Search Algorithm</h1>\n",
    "\n",
    "\n",
    "Given a sorted list, A, of n elements, fint if a given element, x, belongs to the list.\n",
    "\n",
    "The expected output is the index of the element in the list, or None if the element is not in the list."
   ]
  },
  {
   "cell_type": "code",
   "execution_count": 30,
   "metadata": {},
   "outputs": [],
   "source": [
    "def BinarySearchHelper(A, x, l, r):\n",
    "    if r < l:\n",
    "        return None\n",
    "    else:\n",
    "        midpoint = (l + r) // 2\n",
    "        if A[midpoint] == x:\n",
    "            return midpoint\n",
    "        elif A[midpoint < x]:\n",
    "            return BinarySearchHelper(A, x, midpoint+1, r)\n",
    "        else:\n",
    "            return BinarySearchHelper(A, x, l, midpoint-1)\n",
    "    "
   ]
  },
  {
   "cell_type": "code",
   "execution_count": 33,
   "metadata": {},
   "outputs": [],
   "source": [
    "def BinarySearch(A, x):\n",
    "    return BinarySearchHelper(A, x, 0, len(A)-1)"
   ]
  },
  {
   "cell_type": "markdown",
   "metadata": {},
   "source": [
    "<h3>Implementation With Loops</h3>"
   ]
  },
  {
   "cell_type": "code",
   "execution_count": 34,
   "metadata": {},
   "outputs": [],
   "source": [
    "def BinarySearch_Loops(A, x):\n",
    "    if x < A[0] or x > A[len(A)-1]:\n",
    "        return None\n",
    "    else:\n",
    "        l = 0\n",
    "        r = len(A)-1\n",
    "        while (l < r):\n",
    "            midpoint = (l + r) // 2\n",
    "            if x == A[midpoint]:\n",
    "                return midpoint\n",
    "            elif x < A[midpoint]:\n",
    "                r = midpoint-1\n",
    "            else:\n",
    "                l = midpoint + 1\n",
    "        return None\n",
    "            "
   ]
  },
  {
   "cell_type": "markdown",
   "metadata": {},
   "source": [
    "<h3>Proof of Correctness</h3>\n",
    "\n",
    "Claim: For any call to the function BinarySeachHelper(A, x, l, r) if x belongs to the list at index j, then l <= j <= r.\n",
    "\n",
    "Base Case: The first call to BinarySearchHelper saties fies these properties because l=0 and r=n-1. So if x is in the lest it must be within these indices.\n",
    "\n",
    "Induction: If a given call to binarySearchHelper satisfies these properties, then a subsequent call must also satisfy these properties. If x is less than the element at the midpoint of A, because the array is sorted, x must be in the left half of the array if it is in the array at all. If x is greater than the element at the midpoint of A, again, because the array is sorted, x must be in the right half of the array.\n",
    "\n",
    "\n",
    "Claim: For any call to the function BinarySearchHelper, either we terminate by finding the index of x, conclude that x is not in the list, or call BinarySearchHelper with a smaller search region.\n",
    "\n",
    "This must be true because the two recursive calls to BinarySearchHelper must be on a smaller search region. If we find x at the midpoint of the search region we return that index. And if the search region is empty, we conclude that the element has not been found."
   ]
  },
  {
   "cell_type": "markdown",
   "metadata": {},
   "source": [
    "<h3>Execution Time Analysis</h3>\n",
    "\n",
    "Claim: Consider a call to BinarySearchHelper and a subsequent call. The search region of the subsequent call is at most half the size of the previous search region.\n",
    "\n",
    "This is obvious from looking at how the l and r parmetres are set in the code.\n",
    "\n",
    "If the inital search region size is n. At each subsequent call, the search region shrinks by half of the previous search region. Therefore if there are k iterations of BinarySearchHeloer, the initial search region would be at most n/(2^k).\n",
    "\n",
    "Therefore, in the worst case, binary search can run for k steps as long as n/(2^k) >= 1.\n",
    "\n",
    "So 2^k <= n or k <= log2(n).\n",
    "\n",
    "So this algorithm is O(log(n))."
   ]
  },
  {
   "cell_type": "code",
   "execution_count": 3,
   "metadata": {},
   "outputs": [
    {
     "name": "stdout",
     "output_type": "stream",
     "text": [
      "8\n"
     ]
    }
   ],
   "source": [
    "print(2**3)"
   ]
  },
  {
   "cell_type": "code",
   "execution_count": null,
   "metadata": {},
   "outputs": [],
   "source": []
  }
 ],
 "metadata": {
  "kernelspec": {
   "display_name": "Python 2",
   "language": "python",
   "name": "python2"
  },
  "language_info": {
   "codemirror_mode": {
    "name": "ipython",
    "version": 2
   },
   "file_extension": ".py",
   "mimetype": "text/x-python",
   "name": "python",
   "nbconvert_exporter": "python",
   "pygments_lexer": "ipython2",
   "version": "2.7.15rc1"
  }
 },
 "nbformat": 4,
 "nbformat_minor": 2
}
